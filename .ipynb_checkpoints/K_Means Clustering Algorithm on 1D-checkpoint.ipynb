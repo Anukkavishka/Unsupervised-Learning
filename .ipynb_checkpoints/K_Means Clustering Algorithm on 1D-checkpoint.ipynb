{
 "cells": [
  {
   "cell_type": "markdown",
   "metadata": {},
   "source": [
    "# K-Means Clustering for 1D array "
   ]
  },
  {
   "cell_type": "code",
   "execution_count": 27,
   "metadata": {},
   "outputs": [],
   "source": [
    "#need to know about PCA \"Principle Component Analysis\"\n",
    "#used for dimensionality reduction\n",
    "import numpy as np\n",
    "import tensorflow as tf\n",
    "import matplotlib\n",
    "import matplotlib.pyplot as plt\n",
    "import scipy as sc\n",
    "import pandas as pd"
   ]
  },
  {
   "cell_type": "code",
   "execution_count": 51,
   "metadata": {},
   "outputs": [],
   "source": [
    "input_id_x=np.array([1,2,3.7,4,5,126,21,33.8,6,73,2,3,56,98.01,100,4,8,33,102])\n"
   ]
  },
  {
   "cell_type": "code",
   "execution_count": 52,
   "metadata": {},
   "outputs": [],
   "source": [
    "def input_fn_id(input_id) :\n",
    "    input_tensor=tf.convert_to_tensor(input_id,dtype=tf.float32)\n",
    "    input_tensor=tf.expand_dims(input_tensor,1)\n",
    "    \n",
    "    return(input_tensor,None) #None as the second para because we don't have the y values\n"
   ]
  },
  {
   "cell_type": "code",
   "execution_count": 53,
   "metadata": {},
   "outputs": [
    {
     "data": {
      "image/png": "[encoded data removed]",
      "text/plain": [
       "<Figure size 432x288 with 1 Axes>"
      ]
     },
     "metadata": {},
     "output_type": "display_data"
    }
   ],
   "source": [
    "plt.scatter(input_id_x,np.zeros_like(input_id_x),s=500)\n",
    "plt.show()"
   ]
  },
  {
   "cell_type": "markdown",
   "metadata": {},
   "source": [
    "# For importing the K-means clustering algo\n"
   ]
  },
  {
   "cell_type": "code",
   "execution_count": 54,
   "metadata": {},
   "outputs": [],
   "source": [
    "from tensorflow.contrib.learn.python.learn.estimators import kmeans"
   ]
  },
  {
   "cell_type": "code",
   "execution_count": 55,
   "metadata": {},
   "outputs": [
    {
     "name": "stdout",
     "output_type": "stream",
     "text": [
      "INFO:tensorflow:Using default config.\n",
      "WARNING:tensorflow:Using temporary folder as model directory: C:\\Users\\user\\AppData\\Local\\Temp\\tmpihrb17c1\n",
      "INFO:tensorflow:Using config: {'_task_type': None, '_task_id': 0, '_cluster_spec': <tensorflow.python.training.server_lib.ClusterSpec object at 0x000001C4AE7B6C18>, '_master': '', '_num_ps_replicas': 0, '_num_worker_replicas': 0, '_environment': 'local', '_is_chief': True, '_evaluation_master': '', '_train_distribute': None, '_tf_config': gpu_options {\n",
      "  per_process_gpu_memory_fraction: 1\n",
      "}\n",
      ", '_tf_random_seed': None, '_save_summary_steps': 100, '_save_checkpoints_secs': 600, '_log_step_count_steps': 100, '_session_config': None, '_save_checkpoints_steps': None, '_keep_checkpoint_max': 5, '_keep_checkpoint_every_n_hours': 10000, '_model_dir': 'C:\\\\Users\\\\user\\\\AppData\\\\Local\\\\Temp\\\\tmpihrb17c1'}\n"
     ]
    }
   ],
   "source": [
    "k_means_estimator = kmeans.KMeansClustering(num_clusters=2) # number of clusters that you want to cluster the data"
   ]
  },
  {
   "cell_type": "code",
   "execution_count": 56,
   "metadata": {},
   "outputs": [
    {
     "name": "stdout",
     "output_type": "stream",
     "text": [
      "INFO:tensorflow:Create CheckpointSaverHook.\n",
      "INFO:tensorflow:Graph was finalized.\n",
      "INFO:tensorflow:Running local_init_op.\n",
      "INFO:tensorflow:Done running local_init_op.\n",
      "INFO:tensorflow:Saving checkpoints for 1 into C:\\Users\\user\\AppData\\Local\\Temp\\tmpihrb17c1\\model.ckpt.\n",
      "INFO:tensorflow:loss = 5970.091, step = 1\n",
      "INFO:tensorflow:global_step/sec: 367.837\n",
      "INFO:tensorflow:loss = 4641.799, step = 101 (0.272 sec)\n",
      "INFO:tensorflow:global_step/sec: 618.977\n",
      "INFO:tensorflow:loss = 4641.799, step = 201 (0.162 sec)\n",
      "INFO:tensorflow:global_step/sec: 533.698\n",
      "INFO:tensorflow:loss = 4641.799, step = 301 (0.187 sec)\n",
      "INFO:tensorflow:global_step/sec: 629.087\n",
      "INFO:tensorflow:loss = 4641.799, step = 401 (0.159 sec)\n",
      "INFO:tensorflow:global_step/sec: 610.288\n",
      "INFO:tensorflow:loss = 4641.795, step = 501 (0.164 sec)\n",
      "INFO:tensorflow:global_step/sec: 594.395\n",
      "INFO:tensorflow:loss = 4641.8003, step = 601 (0.169 sec)\n",
      "INFO:tensorflow:global_step/sec: 647.49\n",
      "INFO:tensorflow:loss = 4641.8, step = 701 (0.153 sec)\n",
      "INFO:tensorflow:global_step/sec: 674.137\n",
      "INFO:tensorflow:loss = 4641.8, step = 801 (0.148 sec)\n",
      "INFO:tensorflow:global_step/sec: 590.725\n",
      "INFO:tensorflow:loss = 4641.8, step = 901 (0.169 sec)\n",
      "INFO:tensorflow:Saving checkpoints for 1000 into C:\\Users\\user\\AppData\\Local\\Temp\\tmpihrb17c1\\model.ckpt.\n",
      "INFO:tensorflow:Loss for final step: 4641.8.\n"
     ]
    }
   ],
   "source": [
    "fit=k_means_estimator.fit(input_fn=lambda: input_fn_id(input_id_x),steps=1000)"
   ]
  },
  {
   "cell_type": "code",
   "execution_count": null,
   "metadata": {},
   "outputs": [],
   "source": []
  },
  {
   "cell_type": "code",
   "execution_count": null,
   "metadata": {},
   "outputs": [],
   "source": []
  }
 ],
 "metadata": {
  "kernelspec": {
   "display_name": "Python [conda env:sample_env]",
   "language": "python",
   "name": "conda-env-sample_env-py"
  },
  "language_info": {
   "codemirror_mode": {
    "name": "ipython",
    "version": 3
   },
   "file_extension": ".py",
   "mimetype": "text/x-python",
   "name": "python",
   "nbconvert_exporter": "python",
   "pygments_lexer": "ipython3",
   "version": "3.6.6"
  }
 },
 "nbformat": 4,
 "nbformat_minor": 2
}
