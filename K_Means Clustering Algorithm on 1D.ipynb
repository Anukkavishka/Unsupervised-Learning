{
 "cells": [
  {
   "cell_type": "markdown",
   "metadata": {},
   "source": [
    "# K-Means Clustering for 1D array "
   ]
  },
  {
   "cell_type": "code",
   "execution_count": 13,
   "metadata": {},
   "outputs": [],
   "source": [
    "#need to know about PCA \"Principle Component Analysis\"\n",
    "#used for dimensionality reduction\n",
    "import numpy as np\n",
    "import tensorflow as tf\n",
    "import matplotlib\n",
    "import matplotlib.pyplot as plt\n",
    "import scipy as sc\n",
    "import pandas as pd"
   ]
  },
  {
   "cell_type": "code",
   "execution_count": 14,
   "metadata": {},
   "outputs": [],
   "source": [
    "input_1d_x=np.array([1,2,3.7,4,5,126,21,33.8,6,73,2,3,56,98.01,100,4,8,33,102])\n"
   ]
  },
  {
   "cell_type": "code",
   "execution_count": 16,
   "metadata": {},
   "outputs": [],
   "source": [
    "def input_fn_1d(input_1d) :\n",
    "    input_tensor=tf.convert_to_tensor(input_1d,dtype=tf.float32)\n",
    "    input_tensor=tf.expand_dims(input_tensor,1)\n",
    "    \n",
    "    return(input_tensor,None) #None as the second para because we don't have the y values\n"
   ]
  },
  {
   "cell_type": "code",
   "execution_count": 17,
   "metadata": {},
   "outputs": [
    {
     "data": {
      "image/png": "[encoded data removed]",
      "text/plain": [
       "<Figure size 432x288 with 1 Axes>"
      ]
     },
     "metadata": {},
     "output_type": "display_data"
    }
   ],
   "source": [
    "plt.scatter(input_1d_x,np.zeros_like(input_1d_x),s=500) #np.zeros_like(input_id_x) means no y values for them\n",
    "plt.show()"
   ]
  },
  {
   "cell_type": "markdown",
   "metadata": {},
   "source": [
    "# For importing the K-means clustering algo\n"
   ]
  },
  {
   "cell_type": "code",
   "execution_count": 18,
   "metadata": {},
   "outputs": [],
   "source": [
    "from tensorflow.contrib.learn.python.learn.estimators import kmeans"
   ]
  },
  {
   "cell_type": "code",
   "execution_count": 19,
   "metadata": {},
   "outputs": [
    {
     "name": "stdout",
     "output_type": "stream",
     "text": [
      "INFO:tensorflow:Using default config.\n",
      "WARNING:tensorflow:Using temporary folder as model directory: C:\\Users\\user\\AppData\\Local\\Temp\\tmp3i99yibe\n",
      "INFO:tensorflow:Using config: {'_task_type': None, '_task_id': 0, '_cluster_spec': <tensorflow.python.training.server_lib.ClusterSpec object at 0x0000018C1BD54A90>, '_master': '', '_num_ps_replicas': 0, '_num_worker_replicas': 0, '_environment': 'local', '_is_chief': True, '_evaluation_master': '', '_train_distribute': None, '_tf_config': gpu_options {\n",
      "  per_process_gpu_memory_fraction: 1\n",
      "}\n",
      ", '_tf_random_seed': None, '_save_summary_steps': 100, '_save_checkpoints_secs': 600, '_log_step_count_steps': 100, '_session_config': None, '_save_checkpoints_steps': None, '_keep_checkpoint_max': 5, '_keep_checkpoint_every_n_hours': 10000, '_model_dir': 'C:\\\\Users\\\\user\\\\AppData\\\\Local\\\\Temp\\\\tmp3i99yibe'}\n"
     ]
    }
   ],
   "source": [
    "k_means_estimator = kmeans.KMeansClustering(num_clusters=2) # number of clusters that you want to cluster the data"
   ]
  },
  {
   "cell_type": "code",
   "execution_count": 20,
   "metadata": {},
   "outputs": [
    {
     "name": "stdout",
     "output_type": "stream",
     "text": [
      "INFO:tensorflow:Create CheckpointSaverHook.\n",
      "INFO:tensorflow:Graph was finalized.\n",
      "INFO:tensorflow:Running local_init_op.\n",
      "INFO:tensorflow:Done running local_init_op.\n",
      "INFO:tensorflow:Saving checkpoints for 1 into C:\\Users\\user\\AppData\\Local\\Temp\\tmp3i99yibe\\model.ckpt.\n",
      "INFO:tensorflow:loss = 5970.091, step = 1\n",
      "INFO:tensorflow:global_step/sec: 325.666\n",
      "INFO:tensorflow:loss = 4641.8022, step = 101 (0.307 sec)\n",
      "INFO:tensorflow:global_step/sec: 309.145\n",
      "INFO:tensorflow:loss = 4641.8, step = 201 (0.324 sec)\n",
      "INFO:tensorflow:global_step/sec: 535.382\n",
      "INFO:tensorflow:loss = 4641.801, step = 301 (0.203 sec)\n",
      "INFO:tensorflow:global_step/sec: 498.646\n",
      "INFO:tensorflow:loss = 4641.797, step = 401 (0.184 sec)\n",
      "INFO:tensorflow:global_step/sec: 494.68\n",
      "INFO:tensorflow:loss = 4641.8, step = 501 (0.202 sec)\n",
      "INFO:tensorflow:global_step/sec: 487.424\n",
      "INFO:tensorflow:loss = 4641.7983, step = 601 (0.205 sec)\n",
      "INFO:tensorflow:global_step/sec: 574.871\n",
      "INFO:tensorflow:loss = 4641.798, step = 701 (0.174 sec)\n",
      "INFO:tensorflow:global_step/sec: 499.657\n",
      "INFO:tensorflow:loss = 4641.7983, step = 801 (0.200 sec)\n",
      "INFO:tensorflow:global_step/sec: 517.865\n",
      "INFO:tensorflow:loss = 4641.798, step = 901 (0.210 sec)\n",
      "INFO:tensorflow:Saving checkpoints for 1000 into C:\\Users\\user\\AppData\\Local\\Temp\\tmp3i99yibe\\model.ckpt.\n",
      "INFO:tensorflow:Loss for final step: 4641.798.\n"
     ]
    }
   ],
   "source": [
    "fit=k_means_estimator.fit(input_fn=lambda: input_fn_1d(input_1d_x),steps=1000)"
   ]
  },
  {
   "cell_type": "code",
   "execution_count": 21,
   "metadata": {},
   "outputs": [
    {
     "data": {
      "text/plain": [
       "array([[ 9.730087],\n",
       "       [92.50377 ]], dtype=float32)"
      ]
     },
     "execution_count": 21,
     "metadata": {},
     "output_type": "execute_result"
    }
   ],
   "source": [
    "clusters_1d=k_means_estimator.clusters()\n",
    "clusters_1d # these clusters are the centeroids of our 1D sample data"
   ]
  },
  {
   "cell_type": "code",
   "execution_count": 22,
   "metadata": {},
   "outputs": [
    {
     "data": {
      "image/png": "[encoded data removed]",
      "text/plain": [
       "<Figure size 432x288 with 1 Axes>"
      ]
     },
     "metadata": {},
     "output_type": "display_data"
    }
   ],
   "source": [
    "#now let's plot the data set\n",
    "fig=plt.figure()\n",
    "axl=fig.add_subplot(111)\n",
    "#original data\n",
    "axl.scatter(input_1d_x,np.zeros_like(input_1d_x),s=500,marker='o')\n",
    "#clustered data\n",
    "axl.scatter(clusters_1d,np.zeros_like(clusters_1d),c='r',s=200,marker='s')\n",
    "\n",
    "plt.show()\n"
   ]
  },
  {
   "cell_type": "code",
   "execution_count": 23,
   "metadata": {},
   "outputs": [
    {
     "data": {
      "text/plain": [
       "{'params': {'num_clusters': 2,\n",
       "  'training_initial_clusters': 'random',\n",
       "  'distance_metric': 'squared_euclidean',\n",
       "  'random_seed': 0,\n",
       "  'use_mini_batch': True,\n",
       "  'mini_batch_steps_per_iteration': 1,\n",
       "  'kmeans_plus_plus_num_retries': 2,\n",
       "  'relative_tolerance': None}}"
      ]
     },
     "execution_count": 23,
     "metadata": {},
     "output_type": "execute_result"
    }
   ],
   "source": [
    "k_means_estimator.get_params()"
   ]
  },
  {
   "cell_type": "code",
   "execution_count": 24,
   "metadata": {},
   "outputs": [
    {
     "name": "stdout",
     "output_type": "stream",
     "text": [
      "Variable ---> [13001  6001]\n",
      "clusters ---> [[ 9.730087]\n",
      " [92.50377 ]]\n",
      "global_step ---> 1000\n",
      "initialized ---> True\n"
     ]
    }
   ],
   "source": [
    "#lets iterate and look through variable associated with the model\n",
    "for variable_name in fit.get_variable_names() :\n",
    "    print(variable_name,\"--->\",fit.get_variable_value(variable_name))"
   ]
  },
  {
   "cell_type": "code",
   "execution_count": 25,
   "metadata": {},
   "outputs": [
    {
     "name": "stdout",
     "output_type": "stream",
     "text": [
      "INFO:tensorflow:Graph was finalized.\n",
      "INFO:tensorflow:Restoring parameters from C:\\Users\\user\\AppData\\Local\\Temp\\tmp3i99yibe\\model.ckpt-1000\n",
      "INFO:tensorflow:Running local_init_op.\n",
      "INFO:tensorflow:Done running local_init_op.\n"
     ]
    }
   ],
   "source": [
    "#now lets use the predict function to map which cluster a particular data point belongs to\n",
    "ex_1d_x=np.array([50,150],dtype=np.float32)\n",
    "predict=k_means_estimator.predict(input_fn=lambda:input_fn_1d(ex_1d_x), as_iterable=False)"
   ]
  },
  {
   "cell_type": "code",
   "execution_count": 26,
   "metadata": {},
   "outputs": [
    {
     "name": "stdout",
     "output_type": "stream",
     "text": [
      "[[ 9.730087]\n",
      " [92.50377 ]]\n",
      "{'all_scores': array([[ 1621.6658,  1806.5703],\n",
      "       [19675.648 ,  3305.8164]], dtype=float32), 'cluster_idx': array([0, 1], dtype=int64)}\n"
     ]
    }
   ],
   "source": [
    "print(clusters_1d)\n",
    "print(predict)#below you can see that datapoint 50 belongs to cluster 0 means first cluster  9.730099 and the 150 data point belongs to centeroid 92.50375 "
   ]
  },
  {
   "cell_type": "code",
   "execution_count": null,
   "metadata": {},
   "outputs": [],
   "source": []
  },
  {
   "cell_type": "code",
   "execution_count": null,
   "metadata": {},
   "outputs": [],
   "source": []
  }
 ],
 "metadata": {
  "kernelspec": {
   "display_name": "Python [conda env:sample_env]",
   "language": "python",
   "name": "conda-env-sample_env-py"
  },
  "language_info": {
   "codemirror_mode": {
    "name": "ipython",
    "version": 3
   },
   "file_extension": ".py",
   "mimetype": "text/x-python",
   "name": "python",
   "nbconvert_exporter": "python",
   "pygments_lexer": "ipython3",
   "version": "3.6.6"
  }
 },
 "nbformat": 4,
 "nbformat_minor": 2
}
