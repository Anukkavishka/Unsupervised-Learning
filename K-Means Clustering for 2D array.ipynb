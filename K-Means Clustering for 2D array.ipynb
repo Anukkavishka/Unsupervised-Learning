{
 "cells": [
  {
   "cell_type": "code",
   "execution_count": 32,
   "metadata": {},
   "outputs": [],
   "source": [
    "import numpy as np\n",
    "import tensorflow as tf\n",
    "import matplotlib\n",
    "import matplotlib.pyplot as plt\n",
    "import scipy as sc\n",
    "import pandas as pd"
   ]
  },
  {
   "cell_type": "code",
   "execution_count": 39,
   "metadata": {},
   "outputs": [
    {
     "data": {
      "text/html": [
       "<div>\n",
       "<style scoped>\n",
       "    .dataframe tbody tr th:only-of-type {\n",
       "        vertical-align: middle;\n",
       "    }\n",
       "\n",
       "    .dataframe tbody tr th {\n",
       "        vertical-align: top;\n",
       "    }\n",
       "\n",
       "    .dataframe thead th {\n",
       "        text-align: right;\n",
       "    }\n",
       "</style>\n",
       "<table border=\"1\" class=\"dataframe\">\n",
       "  <thead>\n",
       "    <tr style=\"text-align: right;\">\n",
       "      <th></th>\n",
       "      <th>Payer</th>\n",
       "      <th>Amount</th>\n",
       "    </tr>\n",
       "  </thead>\n",
       "  <tbody>\n",
       "    <tr>\n",
       "      <th>0</th>\n",
       "      <td>tempCustomer@LOFC@12155599</td>\n",
       "      <td>100.25</td>\n",
       "    </tr>\n",
       "    <tr>\n",
       "      <th>1</th>\n",
       "      <td>tempCustomer@LOFC@12155599</td>\n",
       "      <td>1000.25</td>\n",
       "    </tr>\n",
       "    <tr>\n",
       "      <th>2</th>\n",
       "      <td>tempCustomer@LOFC@12155599</td>\n",
       "      <td>1000.25</td>\n",
       "    </tr>\n",
       "    <tr>\n",
       "      <th>3</th>\n",
       "      <td>tempCustomer@LOFC@12155599</td>\n",
       "      <td>1000.25</td>\n",
       "    </tr>\n",
       "    <tr>\n",
       "      <th>4</th>\n",
       "      <td>tempCustomer@LOFC@12155599</td>\n",
       "      <td>1000.25</td>\n",
       "    </tr>\n",
       "  </tbody>\n",
       "</table>\n",
       "</div>"
      ],
      "text/plain": [
       "                        Payer   Amount\n",
       "0  tempCustomer@LOFC@12155599   100.25\n",
       "1  tempCustomer@LOFC@12155599  1000.25\n",
       "2  tempCustomer@LOFC@12155599  1000.25\n",
       "3  tempCustomer@LOFC@12155599  1000.25\n",
       "4  tempCustomer@LOFC@12155599  1000.25"
      ]
     },
     "execution_count": 39,
     "metadata": {},
     "output_type": "execute_result"
    }
   ],
   "source": [
    "#getting the training data\n",
    "original_training=pd.read_csv(\".\\\\train_data_1.csv\")\n",
    "\n",
    "copy_x=original_training.copy()\n",
    "del copy_x['Id']\n",
    "del copy_x['Type']\n",
    "del copy_x['Transaction_type']\n",
    "del copy_x['Payee']\n",
    "del copy_x['Transaction_date']\n",
    "\n",
    "\n",
    "copy_x.head()"
   ]
  },
  {
   "cell_type": "code",
   "execution_count": 31,
   "metadata": {},
   "outputs": [
    {
     "data": {
      "text/html": [
       "<div>\n",
       "<style scoped>\n",
       "    .dataframe tbody tr th:only-of-type {\n",
       "        vertical-align: middle;\n",
       "    }\n",
       "\n",
       "    .dataframe tbody tr th {\n",
       "        vertical-align: top;\n",
       "    }\n",
       "\n",
       "    .dataframe thead th {\n",
       "        text-align: right;\n",
       "    }\n",
       "</style>\n",
       "<table border=\"1\" class=\"dataframe\">\n",
       "  <thead>\n",
       "    <tr style=\"text-align: right;\">\n",
       "      <th></th>\n",
       "      <th>17691</th>\n",
       "      <th>INTERNAL</th>\n",
       "      <th>CUSTOMER_MERCHANT</th>\n",
       "      <th>roshan1@CLC@1</th>\n",
       "      <th>acc.tfc@CLC@1</th>\n",
       "      <th>23</th>\n",
       "      <th>6/28/2017 9:51</th>\n",
       "    </tr>\n",
       "  </thead>\n",
       "  <tbody>\n",
       "    <tr>\n",
       "      <th>0</th>\n",
       "      <td>17692</td>\n",
       "      <td>NaN</td>\n",
       "      <td>VER</td>\n",
       "      <td>79f54bdaeb2965fb1ea439dcda850474e2ab7e3b75ca86...</td>\n",
       "      <td>116843v2isidm5uq5mtf0g637ta48v030005</td>\n",
       "      <td>5.79</td>\n",
       "      <td>6/28/2017 11:28</td>\n",
       "    </tr>\n",
       "    <tr>\n",
       "      <th>1</th>\n",
       "      <td>17693</td>\n",
       "      <td>NaN</td>\n",
       "      <td>VER</td>\n",
       "      <td>79f54bdaeb2965fb1ea439dcda850474e2ab7e3b75ca86...</td>\n",
       "      <td>116843v2isidm5uq5mtf0g637ta48v030005</td>\n",
       "      <td>8.68</td>\n",
       "      <td>6/28/2017 11:28</td>\n",
       "    </tr>\n",
       "    <tr>\n",
       "      <th>2</th>\n",
       "      <td>17694</td>\n",
       "      <td>NaN</td>\n",
       "      <td>REV-VER</td>\n",
       "      <td>116843v2isidm5uq5mtf0g637ta48v030005</td>\n",
       "      <td>1168436af993533r13ckgu4mpm6a1oub0016</td>\n",
       "      <td>5.79</td>\n",
       "      <td>6/28/2017 11:28</td>\n",
       "    </tr>\n",
       "    <tr>\n",
       "      <th>3</th>\n",
       "      <td>17695</td>\n",
       "      <td>NaN</td>\n",
       "      <td>REV-VER</td>\n",
       "      <td>116843v2isidm5uq5mtf0g637ta48v030005</td>\n",
       "      <td>1168436af993533r13ckgu4mpm6a1oub0016</td>\n",
       "      <td>8.68</td>\n",
       "      <td>6/28/2017 11:28</td>\n",
       "    </tr>\n",
       "    <tr>\n",
       "      <th>4</th>\n",
       "      <td>17696</td>\n",
       "      <td>NaN</td>\n",
       "      <td>VER</td>\n",
       "      <td>a31821d4f7d14d9a993df3976ebdc6c2cc0bfb5a7fe0e9...</td>\n",
       "      <td>116843v2isidm5uq5mtf0g637ta48v030005</td>\n",
       "      <td>9.35</td>\n",
       "      <td>6/28/2017 13:52</td>\n",
       "    </tr>\n",
       "  </tbody>\n",
       "</table>\n",
       "</div>"
      ],
      "text/plain": [
       "   17691 INTERNAL CUSTOMER_MERCHANT  \\\n",
       "0  17692      NaN               VER   \n",
       "1  17693      NaN               VER   \n",
       "2  17694      NaN           REV-VER   \n",
       "3  17695      NaN           REV-VER   \n",
       "4  17696      NaN               VER   \n",
       "\n",
       "                                       roshan1@CLC@1  \\\n",
       "0  79f54bdaeb2965fb1ea439dcda850474e2ab7e3b75ca86...   \n",
       "1  79f54bdaeb2965fb1ea439dcda850474e2ab7e3b75ca86...   \n",
       "2               116843v2isidm5uq5mtf0g637ta48v030005   \n",
       "3               116843v2isidm5uq5mtf0g637ta48v030005   \n",
       "4  a31821d4f7d14d9a993df3976ebdc6c2cc0bfb5a7fe0e9...   \n",
       "\n",
       "                          acc.tfc@CLC@1    23   6/28/2017 9:51  \n",
       "0  116843v2isidm5uq5mtf0g637ta48v030005  5.79  6/28/2017 11:28  \n",
       "1  116843v2isidm5uq5mtf0g637ta48v030005  8.68  6/28/2017 11:28  \n",
       "2  1168436af993533r13ckgu4mpm6a1oub0016  5.79  6/28/2017 11:28  \n",
       "3  1168436af993533r13ckgu4mpm6a1oub0016  8.68  6/28/2017 11:28  \n",
       "4  116843v2isidm5uq5mtf0g637ta48v030005  9.35  6/28/2017 13:52  "
      ]
     },
     "execution_count": 31,
     "metadata": {},
     "output_type": "execute_result"
    }
   ],
   "source": [
    "#getting the testing data\n",
    "original_testing=pd.read_csv(\".\\\\test_data.csv\")\n",
    "\n",
    "test_x=original_testing.copy()\n",
    "test_x.head()\n"
   ]
  },
  {
   "cell_type": "code",
   "execution_count": 7,
   "metadata": {},
   "outputs": [
    {
     "data": {
      "text/plain": [
       "array([[ 330.,  490.],\n",
       "       [ 344.,  326.],\n",
       "       [ 282.,  202.],\n",
       "       [  98.,  196.],\n",
       "       [ 463.,  145.],\n",
       "       [ 273.,   63.],\n",
       "       [  73.,  414.],\n",
       "       [   7.,  209.],\n",
       "       [  64.,  434.],\n",
       "       [ 447.,  217.],\n",
       "       [  78.,  295.],\n",
       "       [ 288.,  401.],\n",
       "       [ 329.,  452.],\n",
       "       [  25.,  452.],\n",
       "       [ 308.,  248.],\n",
       "       [ 244.,  376.],\n",
       "       [ 105.,  266.],\n",
       "       [ 231.,  166.],\n",
       "       [ 149.,  387.],\n",
       "       [ 414.,  173.],\n",
       "       [  28.,  470.],\n",
       "       [ 388.,  266.],\n",
       "       [ 112.,  122.],\n",
       "       [  44.,  386.],\n",
       "       [ 367.,  104.],\n",
       "       [ 435.,  239.],\n",
       "       [ 298.,  203.],\n",
       "       [ 137.,  127.],\n",
       "       [ 185.,   34.],\n",
       "       [ 240.,    6.],\n",
       "       [  33.,  389.],\n",
       "       [ 223.,  472.],\n",
       "       [ 211.,  177.],\n",
       "       [  85.,  254.],\n",
       "       [  20.,  382.],\n",
       "       [ 412.,  260.],\n",
       "       [ 423.,  109.],\n",
       "       [ 178.,  322.],\n",
       "       [ 213.,  302.],\n",
       "       [   3.,  447.],\n",
       "       [ 154.,  246.],\n",
       "       [ 124.,  469.],\n",
       "       [  45.,  167.],\n",
       "       [ 398.,  168.],\n",
       "       [  93.,  157.],\n",
       "       [ 136.,  343.],\n",
       "       [ 310.,  129.],\n",
       "       [ 429.,  202.],\n",
       "       [ 228.,  200.],\n",
       "       [ 149.,  284.],\n",
       "       [ 498.,  850.],\n",
       "       [ 689.,  889.],\n",
       "       [ 868.,  676.],\n",
       "       [ 575.,  639.],\n",
       "       [ 542.,  591.],\n",
       "       [ 781.,  870.],\n",
       "       [ 616.,  874.],\n",
       "       [ 499.,  815.],\n",
       "       [ 822.,  710.],\n",
       "       [ 667.,  631.],\n",
       "       [ 657.,  806.],\n",
       "       [ 552.,  500.],\n",
       "       [ 883.,  745.],\n",
       "       [ 400.,  877.],\n",
       "       [ 703.,  549.],\n",
       "       [ 413.,  740.],\n",
       "       [ 463.,  419.],\n",
       "       [ 649.,  416.],\n",
       "       [ 639.,  880.],\n",
       "       [ 675.,  539.],\n",
       "       [ 757.,  897.],\n",
       "       [ 844.,  801.],\n",
       "       [ 551.,  863.],\n",
       "       [ 704.,  695.],\n",
       "       [ 878.,  867.],\n",
       "       [ 509.,  624.],\n",
       "       [ 847.,  456.],\n",
       "       [ 837.,  635.],\n",
       "       [ 687.,  542.],\n",
       "       [ 561.,  407.],\n",
       "       [ 405.,  791.],\n",
       "       [ 642.,  849.],\n",
       "       [ 534.,  856.],\n",
       "       [ 708.,  762.],\n",
       "       [ 642.,  484.],\n",
       "       [ 800.,  694.],\n",
       "       [ 410.,  432.],\n",
       "       [ 419.,  868.],\n",
       "       [ 851.,  787.],\n",
       "       [ 542.,  572.],\n",
       "       [ 743.,  746.],\n",
       "       [ 621.,  846.],\n",
       "       [ 689.,  833.],\n",
       "       [ 844.,  451.],\n",
       "       [ 733.,  550.],\n",
       "       [ 688.,  595.],\n",
       "       [ 696.,  532.],\n",
       "       [ 663.,  821.],\n",
       "       [ 455.,  878.],\n",
       "       [ 491.,  835.],\n",
       "       [ 817., 1124.],\n",
       "       [ 855.,  872.],\n",
       "       [1228., 1155.],\n",
       "       [1269.,  875.],\n",
       "       [1279.,  941.],\n",
       "       [ 842., 1235.],\n",
       "       [ 918., 1064.],\n",
       "       [1122., 1128.],\n",
       "       [ 901., 1269.],\n",
       "       [ 888.,  965.],\n",
       "       [ 966.,  842.],\n",
       "       [1184., 1031.],\n",
       "       [1252., 1055.],\n",
       "       [ 937., 1290.],\n",
       "       [1082., 1257.],\n",
       "       [ 987., 1264.],\n",
       "       [ 880.,  817.],\n",
       "       [1090., 1233.],\n",
       "       [1137.,  886.],\n",
       "       [1239.,  941.],\n",
       "       [ 896., 1226.],\n",
       "       [1119., 1221.],\n",
       "       [ 880., 1076.],\n",
       "       [ 920.,  907.],\n",
       "       [ 900.,  926.],\n",
       "       [1058., 1245.],\n",
       "       [1033., 1091.],\n",
       "       [1092.,  835.],\n",
       "       [ 838., 1001.],\n",
       "       [ 869.,  998.],\n",
       "       [1161., 1023.],\n",
       "       [ 802.,  986.],\n",
       "       [1048.,  960.],\n",
       "       [1202.,  999.],\n",
       "       [ 982.,  844.],\n",
       "       [1051.,  857.],\n",
       "       [ 927., 1099.],\n",
       "       [ 892., 1053.],\n",
       "       [1149., 1136.],\n",
       "       [ 971., 1169.],\n",
       "       [ 852., 1078.],\n",
       "       [1062.,  809.],\n",
       "       [ 852., 1005.],\n",
       "       [ 801., 1143.],\n",
       "       [1170.,  838.],\n",
       "       [ 899., 1281.],\n",
       "       [1137.,  869.],\n",
       "       [1211.,  915.],\n",
       "       [ 910.,  915.],\n",
       "       [1009.,  843.]], dtype=float32)"
      ]
     },
     "execution_count": 7,
     "metadata": {},
     "output_type": "execute_result"
    }
   ],
   "source": [
    "import random\n",
    "input_2d_x_1=np.array([[random.randint(1,500) for i in range(2)] for j in range(50)],dtype=np.float32)\n",
    "\n",
    "input_2d_x_2=np.array([[random.randint(400,900) for i in range(2)] for j in range(50)],dtype=np.float32)\n",
    "\n",
    "input_2d_x_3=np.array([[random.randint(800,1300) for i in range(2)] for j in range(50)],dtype=np.float32)\n",
    "\n",
    "input_2d_x=np.append(np.append(input_2d_x_1,input_2d_x_2,axis=0),input_2d_x_3,axis=0)\n",
    "\n",
    "input_2d_x"
   ]
  },
  {
   "cell_type": "code",
   "execution_count": 8,
   "metadata": {},
   "outputs": [],
   "source": [
    "def input_fn_2d(input_2d) :\n",
    "    input_tensor=tf.convert_to_tensor(input_2d,dtype=tf.float32)\n",
    "    \n",
    "    return(input_tensor,None)\n"
   ]
  },
  {
   "cell_type": "code",
   "execution_count": 9,
   "metadata": {},
   "outputs": [
    {
     "data": {
      "image/png": "[encoded data removed]",
      "text/plain": [
       "<Figure size 432x288 with 1 Axes>"
      ]
     },
     "metadata": {},
     "output_type": "display_data"
    }
   ],
   "source": [
    "plt.scatter(input_2d_x[:,0],input_2d_x[:,1],s=200)\n",
    "plt.show()"
   ]
  },
  {
   "cell_type": "code",
   "execution_count": 10,
   "metadata": {},
   "outputs": [],
   "source": [
    "from tensorflow.contrib.learn.python.learn.estimators import kmeans\n",
    "from tensorflow.contrib.factorization.python.ops import clustering_ops #clustering_ops class is used to tweak the hyper paras of the model"
   ]
  },
  {
   "cell_type": "markdown",
   "metadata": {},
   "source": [
    "# Hyper paras\n",
    "\n",
    "## number of clusters\n",
    "avg distance to a centriod will decrease when the number of clusters \n",
    "## Distance Measures\n",
    "can choose multiple distance measures"
   ]
  },
  {
   "cell_type": "code",
   "execution_count": 25,
   "metadata": {},
   "outputs": [
    {
     "name": "stdout",
     "output_type": "stream",
     "text": [
      "INFO:tensorflow:Using default config.\n",
      "WARNING:tensorflow:Using temporary folder as model directory: C:\\Users\\user\\AppData\\Local\\Temp\\tmph7kjmxz0\n",
      "INFO:tensorflow:Using config: {'_task_type': None, '_task_id': 0, '_cluster_spec': <tensorflow.python.training.server_lib.ClusterSpec object at 0x000001B50926FE48>, '_master': '', '_num_ps_replicas': 0, '_num_worker_replicas': 0, '_environment': 'local', '_is_chief': True, '_evaluation_master': '', '_train_distribute': None, '_tf_config': gpu_options {\n",
      "  per_process_gpu_memory_fraction: 1\n",
      "}\n",
      ", '_tf_random_seed': None, '_save_summary_steps': 100, '_save_checkpoints_secs': 600, '_log_step_count_steps': 100, '_session_config': None, '_save_checkpoints_steps': None, '_keep_checkpoint_max': 5, '_keep_checkpoint_every_n_hours': 10000, '_model_dir': 'C:\\\\Users\\\\user\\\\AppData\\\\Local\\\\Temp\\\\tmph7kjmxz0'}\n",
      "INFO:tensorflow:Create CheckpointSaverHook.\n",
      "INFO:tensorflow:Graph was finalized.\n",
      "INFO:tensorflow:Running local_init_op.\n",
      "INFO:tensorflow:Done running local_init_op.\n",
      "INFO:tensorflow:Saving checkpoints for 1 into C:\\Users\\user\\AppData\\Local\\Temp\\tmph7kjmxz0\\model.ckpt.\n",
      "INFO:tensorflow:loss = 11961150.0, step = 1\n",
      "INFO:tensorflow:global_step/sec: 345.525\n",
      "INFO:tensorflow:loss = 7866922.0, step = 101 (0.290 sec)\n",
      "INFO:tensorflow:global_step/sec: 533.911\n",
      "INFO:tensorflow:loss = 7149063.0, step = 201 (0.187 sec)\n",
      "INFO:tensorflow:global_step/sec: 549.324\n",
      "INFO:tensorflow:loss = 6688296.5, step = 301 (0.182 sec)\n",
      "INFO:tensorflow:global_step/sec: 553.048\n",
      "INFO:tensorflow:loss = 6476713.0, step = 401 (0.182 sec)\n",
      "INFO:tensorflow:global_step/sec: 574.625\n",
      "INFO:tensorflow:loss = 6320734.0, step = 501 (0.172 sec)\n",
      "INFO:tensorflow:global_step/sec: 422.504\n",
      "INFO:tensorflow:loss = 6229713.0, step = 601 (0.240 sec)\n",
      "INFO:tensorflow:global_step/sec: 480.05\n",
      "INFO:tensorflow:loss = 6175366.0, step = 701 (0.210 sec)\n",
      "INFO:tensorflow:global_step/sec: 471.347\n",
      "INFO:tensorflow:loss = 6140278.0, step = 801 (0.207 sec)\n",
      "INFO:tensorflow:global_step/sec: 445.194\n",
      "INFO:tensorflow:loss = 6116295.0, step = 901 (0.227 sec)\n",
      "INFO:tensorflow:Saving checkpoints for 1000 into C:\\Users\\user\\AppData\\Local\\Temp\\tmph7kjmxz0\\model.ckpt.\n",
      "INFO:tensorflow:Loss for final step: 6099321.0.\n"
     ]
    }
   ],
   "source": [
    "# this is the minimal version\n",
    "k_means_estimator=kmeans.KMeansClustering(num_clusters=3) \n",
    "\n",
    "\n",
    "#below here we are tweaking the output more buy hyper-paras\n",
    "#k_means_estimator=kmeans.KMeansClustering(num_clusters=3,use_mini_batch=False,relative_tolerance=1)\n",
    "\n",
    "\n",
    "\n",
    "fit=k_means_estimator.fit( input_fn=lambda :input_fn_2d(input_2d_x) , steps=1000)"
   ]
  },
  {
   "cell_type": "code",
   "execution_count": 26,
   "metadata": {},
   "outputs": [
    {
     "name": "stdout",
     "output_type": "stream",
     "text": [
      "[[974.5136  994.3566 ]\n",
      " [215.13893 264.11664]\n",
      " [602.19745 669.70184]]\n"
     ]
    }
   ],
   "source": [
    "clusters_2d=k_means_estimator.clusters()\n",
    "print(clusters_2d)"
   ]
  },
  {
   "cell_type": "code",
   "execution_count": 27,
   "metadata": {},
   "outputs": [
    {
     "data": {
      "image/png": "[encoded data removed]",
      "text/plain": [
       "<Figure size 432x288 with 1 Axes>"
      ]
     },
     "metadata": {},
     "output_type": "display_data"
    }
   ],
   "source": [
    "fig=plt.figure()\n",
    "axl=fig.add_subplot(111)\n",
    "#original data\n",
    "axl.scatter(input_2d_x[:,0],input_2d_x[:,1],s=300,marker='o')\n",
    "#clustered data\n",
    "axl.scatter(clusters_2d[:,0],clusters_2d[:,1],c='r',s=200,marker='s')\n",
    "\n",
    "plt.show()\n"
   ]
  },
  {
   "cell_type": "code",
   "execution_count": 16,
   "metadata": {},
   "outputs": [
    {
     "data": {
      "text/plain": [
       "{'params': {'num_clusters': 3,\n",
       "  'training_initial_clusters': 'random',\n",
       "  'distance_metric': 'squared_euclidean',\n",
       "  'random_seed': 0,\n",
       "  'use_mini_batch': True,\n",
       "  'mini_batch_steps_per_iteration': 1,\n",
       "  'kmeans_plus_plus_num_retries': 2,\n",
       "  'relative_tolerance': None}}"
      ]
     },
     "execution_count": 16,
     "metadata": {},
     "output_type": "execute_result"
    }
   ],
   "source": [
    "k_means_estimator.get_params()"
   ]
  },
  {
   "cell_type": "code",
   "execution_count": 28,
   "metadata": {},
   "outputs": [
    {
     "name": "stdout",
     "output_type": "stream",
     "text": [
      "INFO:tensorflow:Graph was finalized.\n",
      "INFO:tensorflow:Restoring parameters from C:\\Users\\user\\AppData\\Local\\Temp\\tmph7kjmxz0\\model.ckpt-1000\n",
      "INFO:tensorflow:Running local_init_op.\n",
      "INFO:tensorflow:Done running local_init_op.\n",
      "\n",
      " [[974.5136  994.3566 ]\n",
      " [215.13893 264.11664]\n",
      " [602.19745 669.70184]] \n",
      "\n",
      "{'all_scores': array([[683325.6  ,  52637.92 , 113622.875]], dtype=float32), 'cluster_idx': array([1], dtype=int64)}\n"
     ]
    }
   ],
   "source": [
    "#now let's predict a sample\n",
    "\n",
    "ex_2d_x=np.array([[400,400]],dtype=np.float32)\n",
    "predict=k_means_estimator.predict(input_fn=lambda:input_fn_2d(ex_2d_x),as_iterable=False)\n",
    "print(\"\\n\",clusters_2d,\"\\n\")\n",
    "print(predict)"
   ]
  },
  {
   "cell_type": "code",
   "execution_count": null,
   "metadata": {},
   "outputs": [],
   "source": []
  }
 ],
 "metadata": {
  "kernelspec": {
   "display_name": "Python [conda env:sample_env]",
   "language": "python",
   "name": "conda-env-sample_env-py"
  },
  "language_info": {
   "codemirror_mode": {
    "name": "ipython",
    "version": 3
   },
   "file_extension": ".py",
   "mimetype": "text/x-python",
   "name": "python",
   "nbconvert_exporter": "python",
   "pygments_lexer": "ipython3",
   "version": "3.6.6"
  }
 },
 "nbformat": 4,
 "nbformat_minor": 2
}
