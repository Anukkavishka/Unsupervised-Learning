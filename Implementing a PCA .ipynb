{
 "cells": [
  {
   "cell_type": "markdown",
   "metadata": {
    "collapsed": true
   },
   "source": [
    "# PCA \"Principle Component Analysis\"\n",
    "## a technique to re_express complex data in terms of a few,well-chosen vectors(Priciple Components) that most efficiently capture the variation in that data in general PCA,there are as many principle components as there are dimensions in the original data\n",
    "\n"
   ]
  },
  {
   "cell_type": "markdown",
   "metadata": {},
   "source": [
    "# Implementing a PCA using a matplotlib"
   ]
  },
  {
   "cell_type": "code",
   "execution_count": 20,
   "metadata": {
    "collapsed": true
   },
   "outputs": [],
   "source": [
    "import numpy as np\n",
    "import pandas as pd\n",
    "import tensorflow as tf\n",
    "from tensorflow.examples.tutorials.mnist import input_data\n"
   ]
  },
  {
   "cell_type": "code",
   "execution_count": 21,
   "metadata": {
    "collapsed": true
   },
   "outputs": [],
   "source": [
    "import matplotlib\n",
    "import matplotlib.pyplot as plt\n",
    "from matplotlib.mlab import PCA\n"
   ]
  },
  {
   "cell_type": "code",
   "execution_count": 22,
   "metadata": {},
   "outputs": [
    {
     "data": {
      "text/html": [
       "<div>\n",
       "<style>\n",
       "    .dataframe thead tr:only-child th {\n",
       "        text-align: right;\n",
       "    }\n",
       "\n",
       "    .dataframe thead th {\n",
       "        text-align: left;\n",
       "    }\n",
       "\n",
       "    .dataframe tbody tr th {\n",
       "        vertical-align: top;\n",
       "    }\n",
       "</style>\n",
       "<table border=\"1\" class=\"dataframe\">\n",
       "  <thead>\n",
       "    <tr style=\"text-align: right;\">\n",
       "      <th></th>\n",
       "      <th>Date</th>\n",
       "      <th>AAPL</th>\n",
       "      <th>ADBE</th>\n",
       "      <th>CVX</th>\n",
       "      <th>GOOG</th>\n",
       "      <th>IBM</th>\n",
       "      <th>MDLZ</th>\n",
       "      <th>MSFT</th>\n",
       "      <th>NFLX</th>\n",
       "      <th>ORCL</th>\n",
       "      <th>SBUX</th>\n",
       "    </tr>\n",
       "  </thead>\n",
       "  <tbody>\n",
       "    <tr>\n",
       "      <th>0</th>\n",
       "      <td>3-Jan-17</td>\n",
       "      <td>121.104935</td>\n",
       "      <td>113.820000</td>\n",
       "      <td>110.759811</td>\n",
       "      <td>823.830017</td>\n",
       "      <td>174.420883</td>\n",
       "      <td>44.430000</td>\n",
       "      <td>64.737526</td>\n",
       "      <td>141.220001</td>\n",
       "      <td>40.230000</td>\n",
       "      <td>55.649239</td>\n",
       "    </tr>\n",
       "    <tr>\n",
       "      <th>1</th>\n",
       "      <td>1-Dec-16</td>\n",
       "      <td>115.320023</td>\n",
       "      <td>102.949997</td>\n",
       "      <td>116.584061</td>\n",
       "      <td>792.450012</td>\n",
       "      <td>164.687836</td>\n",
       "      <td>44.330002</td>\n",
       "      <td>61.765545</td>\n",
       "      <td>123.800003</td>\n",
       "      <td>38.299999</td>\n",
       "      <td>55.270943</td>\n",
       "    </tr>\n",
       "    <tr>\n",
       "      <th>2</th>\n",
       "      <td>1-Nov-16</td>\n",
       "      <td>110.042900</td>\n",
       "      <td>102.809998</td>\n",
       "      <td>110.502274</td>\n",
       "      <td>775.880005</td>\n",
       "      <td>160.947403</td>\n",
       "      <td>41.066032</td>\n",
       "      <td>59.896873</td>\n",
       "      <td>117.000000</td>\n",
       "      <td>40.033211</td>\n",
       "      <td>57.709953</td>\n",
       "    </tr>\n",
       "    <tr>\n",
       "      <th>3</th>\n",
       "      <td>3-Oct-16</td>\n",
       "      <td>112.472404</td>\n",
       "      <td>107.510002</td>\n",
       "      <td>102.728424</td>\n",
       "      <td>809.900024</td>\n",
       "      <td>151.113403</td>\n",
       "      <td>44.750420</td>\n",
       "      <td>59.159267</td>\n",
       "      <td>124.870003</td>\n",
       "      <td>38.270115</td>\n",
       "      <td>52.588333</td>\n",
       "    </tr>\n",
       "    <tr>\n",
       "      <th>4</th>\n",
       "      <td>1-Sep-16</td>\n",
       "      <td>111.987015</td>\n",
       "      <td>108.540001</td>\n",
       "      <td>100.933739</td>\n",
       "      <td>804.059998</td>\n",
       "      <td>156.186905</td>\n",
       "      <td>43.714809</td>\n",
       "      <td>56.868721</td>\n",
       "      <td>98.550003</td>\n",
       "      <td>38.975769</td>\n",
       "      <td>53.648621</td>\n",
       "    </tr>\n",
       "  </tbody>\n",
       "</table>\n",
       "</div>"
      ],
      "text/plain": [
       "       Date        AAPL        ADBE         CVX        GOOG         IBM  \\\n",
       "0  3-Jan-17  121.104935  113.820000  110.759811  823.830017  174.420883   \n",
       "1  1-Dec-16  115.320023  102.949997  116.584061  792.450012  164.687836   \n",
       "2  1-Nov-16  110.042900  102.809998  110.502274  775.880005  160.947403   \n",
       "3  3-Oct-16  112.472404  107.510002  102.728424  809.900024  151.113403   \n",
       "4  1-Sep-16  111.987015  108.540001  100.933739  804.059998  156.186905   \n",
       "\n",
       "        MDLZ       MSFT        NFLX       ORCL       SBUX  \n",
       "0  44.430000  64.737526  141.220001  40.230000  55.649239  \n",
       "1  44.330002  61.765545  123.800003  38.299999  55.270943  \n",
       "2  41.066032  59.896873  117.000000  40.033211  57.709953  \n",
       "3  44.750420  59.159267  124.870003  38.270115  52.588333  \n",
       "4  43.714809  56.868721   98.550003  38.975769  53.648621  "
      ]
     },
     "execution_count": 22,
     "metadata": {},
     "output_type": "execute_result"
    }
   ],
   "source": [
    "prices=pd.read_csv('data/stocks.csv')\n",
    "prices.head()"
   ]
  },
  {
   "cell_type": "code",
   "execution_count": 23,
   "metadata": {},
   "outputs": [
    {
     "data": {
      "text/html": [
       "<div>\n",
       "<style>\n",
       "    .dataframe thead tr:only-child th {\n",
       "        text-align: right;\n",
       "    }\n",
       "\n",
       "    .dataframe thead th {\n",
       "        text-align: left;\n",
       "    }\n",
       "\n",
       "    .dataframe tbody tr th {\n",
       "        vertical-align: top;\n",
       "    }\n",
       "</style>\n",
       "<table border=\"1\" class=\"dataframe\">\n",
       "  <thead>\n",
       "    <tr style=\"text-align: right;\">\n",
       "      <th></th>\n",
       "      <th>Date</th>\n",
       "      <th>AAPL</th>\n",
       "      <th>ADBE</th>\n",
       "      <th>CVX</th>\n",
       "      <th>GOOG</th>\n",
       "      <th>IBM</th>\n",
       "      <th>MDLZ</th>\n",
       "      <th>MSFT</th>\n",
       "      <th>NFLX</th>\n",
       "      <th>ORCL</th>\n",
       "      <th>SBUX</th>\n",
       "    </tr>\n",
       "  </thead>\n",
       "  <tbody>\n",
       "    <tr>\n",
       "      <th>0</th>\n",
       "      <td>2017-01-03</td>\n",
       "      <td>121.104935</td>\n",
       "      <td>113.820000</td>\n",
       "      <td>110.759811</td>\n",
       "      <td>823.830017</td>\n",
       "      <td>174.420883</td>\n",
       "      <td>44.430000</td>\n",
       "      <td>64.737526</td>\n",
       "      <td>141.220001</td>\n",
       "      <td>40.230000</td>\n",
       "      <td>55.649239</td>\n",
       "    </tr>\n",
       "    <tr>\n",
       "      <th>1</th>\n",
       "      <td>2016-12-01</td>\n",
       "      <td>115.320023</td>\n",
       "      <td>102.949997</td>\n",
       "      <td>116.584061</td>\n",
       "      <td>792.450012</td>\n",
       "      <td>164.687836</td>\n",
       "      <td>44.330002</td>\n",
       "      <td>61.765545</td>\n",
       "      <td>123.800003</td>\n",
       "      <td>38.299999</td>\n",
       "      <td>55.270943</td>\n",
       "    </tr>\n",
       "    <tr>\n",
       "      <th>2</th>\n",
       "      <td>2016-11-01</td>\n",
       "      <td>110.042900</td>\n",
       "      <td>102.809998</td>\n",
       "      <td>110.502274</td>\n",
       "      <td>775.880005</td>\n",
       "      <td>160.947403</td>\n",
       "      <td>41.066032</td>\n",
       "      <td>59.896873</td>\n",
       "      <td>117.000000</td>\n",
       "      <td>40.033211</td>\n",
       "      <td>57.709953</td>\n",
       "    </tr>\n",
       "    <tr>\n",
       "      <th>3</th>\n",
       "      <td>2016-10-03</td>\n",
       "      <td>112.472404</td>\n",
       "      <td>107.510002</td>\n",
       "      <td>102.728424</td>\n",
       "      <td>809.900024</td>\n",
       "      <td>151.113403</td>\n",
       "      <td>44.750420</td>\n",
       "      <td>59.159267</td>\n",
       "      <td>124.870003</td>\n",
       "      <td>38.270115</td>\n",
       "      <td>52.588333</td>\n",
       "    </tr>\n",
       "    <tr>\n",
       "      <th>4</th>\n",
       "      <td>2016-09-01</td>\n",
       "      <td>111.987015</td>\n",
       "      <td>108.540001</td>\n",
       "      <td>100.933739</td>\n",
       "      <td>804.059998</td>\n",
       "      <td>156.186905</td>\n",
       "      <td>43.714809</td>\n",
       "      <td>56.868721</td>\n",
       "      <td>98.550003</td>\n",
       "      <td>38.975769</td>\n",
       "      <td>53.648621</td>\n",
       "    </tr>\n",
       "  </tbody>\n",
       "</table>\n",
       "</div>"
      ],
      "text/plain": [
       "        Date        AAPL        ADBE         CVX        GOOG         IBM  \\\n",
       "0 2017-01-03  121.104935  113.820000  110.759811  823.830017  174.420883   \n",
       "1 2016-12-01  115.320023  102.949997  116.584061  792.450012  164.687836   \n",
       "2 2016-11-01  110.042900  102.809998  110.502274  775.880005  160.947403   \n",
       "3 2016-10-03  112.472404  107.510002  102.728424  809.900024  151.113403   \n",
       "4 2016-09-01  111.987015  108.540001  100.933739  804.059998  156.186905   \n",
       "\n",
       "        MDLZ       MSFT        NFLX       ORCL       SBUX  \n",
       "0  44.430000  64.737526  141.220001  40.230000  55.649239  \n",
       "1  44.330002  61.765545  123.800003  38.299999  55.270943  \n",
       "2  41.066032  59.896873  117.000000  40.033211  57.709953  \n",
       "3  44.750420  59.159267  124.870003  38.270115  52.588333  \n",
       "4  43.714809  56.868721   98.550003  38.975769  53.648621  "
      ]
     },
     "execution_count": 23,
     "metadata": {},
     "output_type": "execute_result"
    }
   ],
   "source": [
    "#to compute the Returns we need to order the data set by date\n",
    "prices['Date']=pd.to_datetime(prices['Date'],infer_datetime_format=True)\n",
    "prices.head()"
   ]
  },
  {
   "cell_type": "code",
   "execution_count": 24,
   "metadata": {
    "collapsed": true
   },
   "outputs": [],
   "source": [
    "prices=prices.sort_values(['Date'],ascending=[True])"
   ]
  },
  {
   "cell_type": "code",
   "execution_count": 25,
   "metadata": {},
   "outputs": [
    {
     "data": {
      "text/html": [
       "<div>\n",
       "<style>\n",
       "    .dataframe thead tr:only-child th {\n",
       "        text-align: right;\n",
       "    }\n",
       "\n",
       "    .dataframe thead th {\n",
       "        text-align: left;\n",
       "    }\n",
       "\n",
       "    .dataframe tbody tr th {\n",
       "        vertical-align: top;\n",
       "    }\n",
       "</style>\n",
       "<table border=\"1\" class=\"dataframe\">\n",
       "  <thead>\n",
       "    <tr style=\"text-align: right;\">\n",
       "      <th></th>\n",
       "      <th>AAPL</th>\n",
       "      <th>GOOG</th>\n",
       "      <th>NFLX</th>\n",
       "    </tr>\n",
       "  </thead>\n",
       "  <tbody>\n",
       "    <tr>\n",
       "      <th>120</th>\n",
       "      <td>11.107141</td>\n",
       "      <td>251.001007</td>\n",
       "      <td>3.258571</td>\n",
       "    </tr>\n",
       "    <tr>\n",
       "      <th>119</th>\n",
       "      <td>10.962033</td>\n",
       "      <td>224.949951</td>\n",
       "      <td>3.218571</td>\n",
       "    </tr>\n",
       "    <tr>\n",
       "      <th>118</th>\n",
       "      <td>12.037377</td>\n",
       "      <td>229.309311</td>\n",
       "      <td>3.312857</td>\n",
       "    </tr>\n",
       "    <tr>\n",
       "      <th>117</th>\n",
       "      <td>12.930043</td>\n",
       "      <td>235.925919</td>\n",
       "      <td>3.167143</td>\n",
       "    </tr>\n",
       "    <tr>\n",
       "      <th>116</th>\n",
       "      <td>15.701322</td>\n",
       "      <td>249.204208</td>\n",
       "      <td>3.128572</td>\n",
       "    </tr>\n",
       "  </tbody>\n",
       "</table>\n",
       "</div>"
      ],
      "text/plain": [
       "          AAPL        GOOG      NFLX\n",
       "120  11.107141  251.001007  3.258571\n",
       "119  10.962033  224.949951  3.218571\n",
       "118  12.037377  229.309311  3.312857\n",
       "117  12.930043  235.925919  3.167143\n",
       "116  15.701322  249.204208  3.128572"
      ]
     },
     "execution_count": 25,
     "metadata": {},
     "output_type": "execute_result"
    }
   ],
   "source": [
    "#lets reduce the dimensions up front\n",
    "prices=prices[['AAPL','GOOG','NFLX']]\n",
    "prices.head()"
   ]
  },
  {
   "cell_type": "code",
   "execution_count": 26,
   "metadata": {
    "collapsed": true
   },
   "outputs": [],
   "source": [
    "#convert to returns\n",
    "returns=prices[[key for key in dict(prices.dtypes) if dict(prices.dtypes)[key] in ['float64','int64'] ]].pct_change()"
   ]
  },
  {
   "cell_type": "code",
   "execution_count": 27,
   "metadata": {},
   "outputs": [
    {
     "data": {
      "text/html": [
       "<div>\n",
       "<style>\n",
       "    .dataframe thead tr:only-child th {\n",
       "        text-align: right;\n",
       "    }\n",
       "\n",
       "    .dataframe thead th {\n",
       "        text-align: left;\n",
       "    }\n",
       "\n",
       "    .dataframe tbody tr th {\n",
       "        vertical-align: top;\n",
       "    }\n",
       "</style>\n",
       "<table border=\"1\" class=\"dataframe\">\n",
       "  <thead>\n",
       "    <tr style=\"text-align: right;\">\n",
       "      <th></th>\n",
       "      <th>AAPL</th>\n",
       "      <th>GOOG</th>\n",
       "      <th>NFLX</th>\n",
       "    </tr>\n",
       "  </thead>\n",
       "  <tbody>\n",
       "    <tr>\n",
       "      <th>119</th>\n",
       "      <td>-0.013064</td>\n",
       "      <td>-0.103789</td>\n",
       "      <td>-0.012275</td>\n",
       "    </tr>\n",
       "    <tr>\n",
       "      <th>118</th>\n",
       "      <td>0.098097</td>\n",
       "      <td>0.019379</td>\n",
       "      <td>0.029294</td>\n",
       "    </tr>\n",
       "    <tr>\n",
       "      <th>117</th>\n",
       "      <td>0.074158</td>\n",
       "      <td>0.028855</td>\n",
       "      <td>-0.043984</td>\n",
       "    </tr>\n",
       "    <tr>\n",
       "      <th>116</th>\n",
       "      <td>0.214329</td>\n",
       "      <td>0.056282</td>\n",
       "      <td>-0.012178</td>\n",
       "    </tr>\n",
       "    <tr>\n",
       "      <th>115</th>\n",
       "      <td>0.007014</td>\n",
       "      <td>0.049788</td>\n",
       "      <td>-0.114612</td>\n",
       "    </tr>\n",
       "  </tbody>\n",
       "</table>\n",
       "</div>"
      ],
      "text/plain": [
       "         AAPL      GOOG      NFLX\n",
       "119 -0.013064 -0.103789 -0.012275\n",
       "118  0.098097  0.019379  0.029294\n",
       "117  0.074158  0.028855 -0.043984\n",
       "116  0.214329  0.056282 -0.012178\n",
       "115  0.007014  0.049788 -0.114612"
      ]
     },
     "execution_count": 27,
     "metadata": {},
     "output_type": "execute_result"
    }
   ],
   "source": [
    "returns= returns[1:]\n",
    "returns.head()"
   ]
  },
  {
   "cell_type": "code",
   "execution_count": 28,
   "metadata": {},
   "outputs": [
    {
     "data": {
      "text/plain": [
       "(20, 3)"
      ]
     },
     "execution_count": 28,
     "metadata": {},
     "output_type": "execute_result"
    }
   ],
   "source": [
    "returns_arr=returns.as_matrix()[:20]\n",
    "returns_arr.shape"
   ]
  },
  {
   "cell_type": "code",
   "execution_count": 29,
   "metadata": {},
   "outputs": [
    {
     "name": "stdout",
     "output_type": "stream",
     "text": [
      "[[-0.26570419 -0.83085735 -0.27988663]\n",
      " [ 0.48183445  0.19850401  0.05469668]\n",
      " [ 0.32084764  0.27769246 -0.53510448]\n",
      " [ 1.26346797  0.50691119 -0.27910722]\n",
      " [-0.13068243  0.45264219 -1.10356751]\n",
      " [ 0.35775408 -0.16651438 -1.07769436]\n",
      " [ 0.16512878  0.12257604 -0.04561865]\n",
      " [ 0.55008778  0.88031173  1.30278588]\n",
      " [ 1.4206431   2.09513584  2.03764936]\n",
      " [-0.45151408 -0.1289488  -1.20580256]\n",
      " [ 0.40746153  0.01821392  1.04538738]\n",
      " [-2.30718683 -1.50058206 -0.62555009]\n",
      " [-0.69154794 -1.34257977  1.87670064]\n",
      " [ 0.8161854  -0.50816289  0.60136016]\n",
      " [ 1.24912054  2.57561617 -0.80129032]\n",
      " [ 0.39430968  0.20404444 -0.58880849]\n",
      " [-0.93708285 -0.8106076  -1.31840651]\n",
      " [-0.51882766 -0.79963904  1.30701792]\n",
      " [ 0.26976548 -0.14797953 -0.19411235]\n",
      " [-2.39406044 -1.0957766  -0.17064887]]\n"
     ]
    }
   ],
   "source": [
    "#and you have to standardize and scale the data\n",
    "from sklearn.preprocessing import StandardScaler\n",
    "scaler=StandardScaler()\n",
    "\n",
    "returns_arr_scaled=scaler.fit_transform(returns_arr)\n",
    "print(returns_arr_scaled)"
   ]
  },
  {
   "cell_type": "code",
   "execution_count": 30,
   "metadata": {
    "collapsed": true
   },
   "outputs": [],
   "source": [
    "#now the above data we can feed into a PCA\n",
    "results=PCA(returns_arr_scaled,standardize=False)\n"
   ]
  },
  {
   "cell_type": "code",
   "execution_count": 31,
   "metadata": {},
   "outputs": [
    {
     "name": "stdout",
     "output_type": "stream",
     "text": [
      "[ 0.60781955  0.32166829  0.07051216]\n"
     ]
    }
   ],
   "source": [
    "#fracs - will give you the proportion of variance of each of the priciple components\n",
    "print(results.fracs)"
   ]
  },
  {
   "cell_type": "code",
   "execution_count": 32,
   "metadata": {},
   "outputs": [
    {
     "name": "stdout",
     "output_type": "stream",
     "text": [
      "[[ 0.69753442  0.67658261  0.23596969]\n",
      " [-0.07444624 -0.25910276  0.96297638]\n",
      " [-0.71267348  0.68927623  0.13036406]]\n"
     ]
    }
   ],
   "source": [
    "#and weights of the results is what is used to reconstruct the original data\n",
    "print(results.Wt)\n",
    "#and the rows of the below vectors are eigen vectors\n"
   ]
  },
  {
   "cell_type": "code",
   "execution_count": 33,
   "metadata": {},
   "outputs": [
    {
     "name": "stdout",
     "output_type": "stream",
     "text": [
      "[[-0.26570419 -0.83085735 -0.27988663]\n",
      " [ 0.48183445  0.19850401  0.05469668]\n",
      " [ 0.32084764  0.27769246 -0.53510448]\n",
      " [ 1.26346797  0.50691119 -0.27910722]\n",
      " [-0.13068243  0.45264219 -1.10356751]\n",
      " [ 0.35775408 -0.16651438 -1.07769436]\n",
      " [ 0.16512878  0.12257604 -0.04561865]\n",
      " [ 0.55008778  0.88031173  1.30278588]\n",
      " [ 1.4206431   2.09513584  2.03764936]\n",
      " [-0.45151408 -0.1289488  -1.20580256]\n",
      " [ 0.40746153  0.01821392  1.04538738]\n",
      " [-2.30718683 -1.50058206 -0.62555009]\n",
      " [-0.69154794 -1.34257977  1.87670064]\n",
      " [ 0.8161854  -0.50816289  0.60136016]\n",
      " [ 1.24912054  2.57561617 -0.80129032]\n",
      " [ 0.39430968  0.20404444 -0.58880849]\n",
      " [-0.93708285 -0.8106076  -1.31840651]\n",
      " [-0.51882766 -0.79963904  1.30701792]\n",
      " [ 0.26976548 -0.14797953 -0.19411235]\n",
      " [-2.39406044 -1.0957766  -0.17064887]]\n"
     ]
    }
   ],
   "source": [
    "#principle components vector and * weight vectors = original data\n",
    "print(np.dot(results.Y,results.Wt))"
   ]
  },
  {
   "cell_type": "markdown",
   "metadata": {},
   "source": [
    "# now create a PCA and compare that with above inbuilt PCA"
   ]
  },
  {
   "cell_type": "code",
   "execution_count": 34,
   "metadata": {
    "collapsed": true
   },
   "outputs": [],
   "source": [
    "#Under Complete Autoencoder\n",
    "n_inputs = 3\n",
    "n_hidden = 2 #coding layer\n",
    "n_outputs = n_inputs\n",
    "\n",
    "learning_rate=0.01"
   ]
  },
  {
   "cell_type": "code",
   "execution_count": 35,
   "metadata": {},
   "outputs": [],
   "source": [
    "tf.reset_default_graph()"
   ]
  },
  {
   "cell_type": "code",
   "execution_count": 36,
   "metadata": {
    "collapsed": true
   },
   "outputs": [],
   "source": [
    "X=tf.placeholder(tf.float32,shape=[None,n_inputs])"
   ]
  },
  {
   "cell_type": "code",
   "execution_count": 37,
   "metadata": {},
   "outputs": [],
   "source": [
    "hidden = tf.layers.dense(X,n_hidden)\n",
    "outputs = tf.layers.dense(hidden,n_outputs)"
   ]
  },
  {
   "cell_type": "code",
   "execution_count": 38,
   "metadata": {},
   "outputs": [],
   "source": [
    "reconstruction_loss = tf.reduce_mean(tf.square(outputs-X))"
   ]
  },
  {
   "cell_type": "code",
   "execution_count": 39,
   "metadata": {
    "collapsed": true
   },
   "outputs": [],
   "source": [
    "optimizer = tf.train.AdamOptimizer(learning_rate)\n",
    "training_op =optimizer.minimize(reconstruction_loss)"
   ]
  },
  {
   "cell_type": "code",
   "execution_count": 40,
   "metadata": {
    "collapsed": true
   },
   "outputs": [],
   "source": [
    "init= tf.global_variables_initializer()"
   ]
  },
  {
   "cell_type": "code",
   "execution_count": 41,
   "metadata": {},
   "outputs": [
    {
     "name": "stdout",
     "output_type": "stream",
     "text": [
      "[[-0.56464434 -0.54121721 -0.22536425]\n",
      " [ 0.34005371  0.3363505   0.08041921]\n",
      " [ 0.24488716  0.35178125 -0.5213902 ]\n",
      " [ 0.84520191  0.91221517 -0.20281488]\n",
      " [ 0.05576036  0.27282751 -1.13781762]\n",
      " [-0.00562521  0.1854419  -1.01136994]\n",
      " [ 0.13756083  0.14990777 -0.04077497]\n",
      " [ 0.82464391  0.61574143  1.25227416]\n",
      " [ 1.91821444  1.61516595  1.9462651 ]\n",
      " [-0.39735758 -0.18091391 -1.21583176]\n",
      " [ 0.30699709  0.11622901  1.06350708]\n",
      " [-1.93050003 -1.86468983 -0.69454169]\n",
      " [-0.82508963 -1.21266329  1.90087771]\n",
      " [ 0.20826912  0.08057283  0.7123276 ]\n",
      " [ 1.80587542  2.03799748 -0.90336269]\n",
      " [ 0.23986654  0.35403204 -0.56073552]\n",
      " [-0.98167396 -0.76718622 -1.31034374]\n",
      " [-0.52632737 -0.79165208  1.30815423]\n",
      " [ 0.04233455  0.07261895 -0.15269899]\n",
      " [-1.73208869 -1.73570943 -0.29185396]]\n"
     ]
    }
   ],
   "source": [
    "n_iterations = 10000\n",
    "with tf.Session() as sess:\n",
    "    init.run()\n",
    "    \n",
    "    for iteration in range(n_iterations) :\n",
    "        training_op.run(feed_dict={X: returns_arr_scaled})\n",
    "        \n",
    "    outputs_val=outputs.eval(feed_dict={X: returns_arr_scaled })\n",
    "    print(outputs_val)\n",
    "print(\"\\n This autoencoder is a single hidden layer autoencoder,but if you have multiple hidden layers w call them stacked autoencoders\")    "
   ]
  },
  {
   "cell_type": "code",
   "execution_count": null,
   "metadata": {
    "collapsed": true
   },
   "outputs": [],
   "source": []
  }
 ],
 "metadata": {
  "kernelspec": {
   "display_name": "Python [default]",
   "language": "python",
   "name": "python3"
  },
  "language_info": {
   "codemirror_mode": {
    "name": "ipython",
    "version": 3
   },
   "file_extension": ".py",
   "mimetype": "text/x-python",
   "name": "python",
   "nbconvert_exporter": "python",
   "pygments_lexer": "ipython3",
   "version": "3.6.6"
  }
 },
 "nbformat": 4,
 "nbformat_minor": 2
}
